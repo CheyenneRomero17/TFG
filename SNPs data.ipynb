{
 "cells": [
  {
   "cell_type": "code",
   "execution_count": 10,
   "metadata": {},
   "outputs": [],
   "source": [
    "import pandas as pd\n",
    "import numpy as np"
   ]
  },
  {
   "cell_type": "code",
   "execution_count": 135,
   "metadata": {},
   "outputs": [],
   "source": [
    "def SNP_dataset(file):\n",
    "    # loading the SNPs data\n",
    "    SNP = pd.read_table(file, header=0, sep=' ')\n",
    "    \n",
    "    # extracting the IID\n",
    "    for i in range(SNP.shape[0]):\n",
    "        SNP.loc[i,'IID'] = SNP.loc[i,'IID'].split('_')[5]+'_'+SNP.loc[i,'IID'].split('_')[6]+'_'+SNP.loc[i,'IID'].split('_')[7]\n",
    "    \n",
    "    # deleting monomorph SNPs\n",
    "    for snp in SNP.columns[6:]:\n",
    "        if SNP.describe().loc['mean', snp] == 0:\n",
    "            SNP = SNP.drop(snp, axis=1)\n",
    "    \n",
    "    # if 2 appereance is lower than 10% of the SNP column data, all 2 are changed for a 1 in that SNP\n",
    "    for snp in SNP.columns[6:]:\n",
    "        if list(SNP[snp]).count(2)/len(SNP[snp]) <= 0.1:\n",
    "            SNP[snp] = [1 if i == 2 else i for i in SNP[snp]]\n",
    "                \n",
    "    return(SNP)"
   ]
  },
  {
   "cell_type": "code",
   "execution_count": 146,
   "metadata": {},
   "outputs": [],
   "source": [
    "Risk_A3 = SNP_dataset('SNPs_AD_Risk_ADNI3_recoded.RAW')\n",
    "Risk_A2GO = SNP_dataset('SNPs_AD_Risk_ADNI2GO_recoded.RAW')\n",
    "Risk_A1 = SNP_dataset('SNPs_AD_Risk_ADNI1_recoded.RAW')\n",
    "Proxy_A3 = SNP_dataset('SNPs_AD_Proxy_ADNI3_recoded.RAW')\n",
    "Proxy_A2GO = SNP_dataset('SNPs_AD_Proxy_ADNI2GO_recoded.RAW')\n",
    "Proxy_A1 = SNP_dataset('SNPs_AD_Proxy_ADNI1_recoded.RAW')"
   ]
  },
  {
   "cell_type": "code",
   "execution_count": null,
   "metadata": {},
   "outputs": [],
   "source": []
  }
 ],
 "metadata": {
  "kernelspec": {
   "display_name": "Python 3",
   "language": "python",
   "name": "python3"
  },
  "language_info": {
   "codemirror_mode": {
    "name": "ipython",
    "version": 3
   },
   "file_extension": ".py",
   "mimetype": "text/x-python",
   "name": "python",
   "nbconvert_exporter": "python",
   "pygments_lexer": "ipython3",
   "version": "3.7.4"
  }
 },
 "nbformat": 4,
 "nbformat_minor": 2
}
